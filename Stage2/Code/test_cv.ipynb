{
 "cells": [
  {
   "cell_type": "code",
   "execution_count": 2,
   "metadata": {
    "collapsed": true
   },
   "outputs": [],
   "source": [
    "import os\n",
    "import numpy as np\n",
    "import pandas as pd\n",
    "import lightgbm as lgb\n",
    "from sklearn.model_selection import train_test_split\n",
    "from sklearn.model_selection import StratifiedKFold\n",
    "import config\n",
    "\n",
    "def print_full(x):\n",
    "    pd.set_option('display.max_rows', len(x))\n",
    "    print(x)\n",
    "    pd.reset_option('display.max_rows')\n",
    "    "
   ]
  },
  {
   "cell_type": "code",
   "execution_count": 4,
   "metadata": {
    "collapsed": false
   },
   "outputs": [],
   "source": [
    "features_importance = pd.read_csv(config.IN_FEAT_IMPORTANCE, index_col=0)\n",
    "columns = features_importance[:160].index.tolist()"
   ]
  },
  {
   "cell_type": "code",
   "execution_count": 5,
   "metadata": {
    "collapsed": false
   },
   "outputs": [],
   "source": [
    "train_features_dl = pd.read_csv(config.IN_TRAIN_FEAT_DL, index_col=0)\n",
    "train_features_hand = pd.read_csv(config.IN_TRAIN_FEAT_HAND, index_col=0, usecols=['id'] + columns)\n",
    "train_features = pd.concat([train_features_dl, train_features_hand], axis=1)"
   ]
  },
  {
   "cell_type": "code",
   "execution_count": 10,
   "metadata": {
    "collapsed": false
   },
   "outputs": [],
   "source": [
    "x = train_features.values\n",
    "np.save('train_wxh.npy', x)"
   ]
  },
  {
   "cell_type": "code",
   "execution_count": 11,
   "metadata": {
    "collapsed": true
   },
   "outputs": [],
   "source": [
    "test_features_dl = pd.read_csv(config.IN_TEST_FEAT_DL, index_col=0)\n",
    "test_features_hand = pd.read_csv(config.IN_TEST_FEAT_HAND, index_col=0, usecols=['test_id'] + columns)\n",
    "test_features = pd.concat([test_features_dl, test_features_hand], axis=1)\n"
   ]
  },
  {
   "cell_type": "code",
   "execution_count": 12,
   "metadata": {
    "collapsed": true
   },
   "outputs": [],
   "source": [
    "x = test_features.values\n",
    "np.save('test_wxh.npy', x)"
   ]
  },
  {
   "cell_type": "code",
   "execution_count": 11,
   "metadata": {
    "collapsed": true
   },
   "outputs": [],
   "source": [
    "from sklearn.preprocessing import MinMaxScaler\n",
    "import pandas as pd\n",
    "import config\n",
    "features_importance = pd.read_csv(config.FEAT_IMPORTANCE, index_col=0)\n",
    "def select_features(i):\n",
    "    return features_importance[:i].index.tolist()"
   ]
  },
  {
   "cell_type": "code",
   "execution_count": 28,
   "metadata": {
    "collapsed": false
   },
   "outputs": [
    {
     "name": "stdout",
     "output_type": "stream",
     "text": [
      "74\n"
     ]
    }
   ],
   "source": [
    "for i, x in enumerate(features_importance.index.tolist()):\n",
    "    if x =='nolemmatized_uniwords_norm-wmd':\n",
    "        print(i)"
   ]
  },
  {
   "cell_type": "code",
   "execution_count": 7,
   "metadata": {
    "collapsed": false
   },
   "outputs": [
    {
     "name": "stdout",
     "output_type": "stream",
     "text": [
      "lemmatized_glove_dl_SelfAttentionBiLSTM                     1.000\n",
      "lemmatized_word2vec_dl_SelfAttentionBiLSTM                  0.595\n",
      "nolemmatized_dl_SelfAttentionBiLSTM                         0.568\n",
      "magic_intersect                                             0.387\n",
      "lcs_dl_SelfAttentionBiLSTM                                  0.143\n",
      "magic_max-freq                                              0.079\n",
      "lemmatized_dl_SelfAttentionBiLSTM                           0.031\n",
      "lemmatized_glove_stemmed_dl_SelfAttentionBiLSTM             0.023\n",
      "lemmatized_stemmed_dl_SelfAttentionBiLSTM                   0.021\n",
      "lemmatized_word2vec_stemmed_dl_SelfAttentionBiLSTM          0.020\n",
      "lemmatized_glove_stemmed_chars-tfidf-lsa-cosine             0.014\n",
      "lemmatized_word2vec_chars-tfidf-lsa-cosine                  0.014\n",
      "lemmatized_word2vec_stemmed_chars-tfidf-lsa-cosine          0.014\n",
      "lemmatized_word2vec_words-tfidf-lsa-cosine                  0.014\n",
      "nolemmatized_fuzz-token-sort-ratio                          0.014\n",
      "lemmatized_word2vec_stemmed_words-tfidf-lsa-cosine          0.013\n",
      "nolemmatized_uniwords_tfidf                                 0.013\n",
      "lemmatized_chars-tfidf-lsa-cosine                           0.013\n",
      "lemmatized_stemmed_chars-tfidf-lsa-cosine                   0.013\n",
      "nolemmatized_unichars_jaccard-ratio                         0.013\n",
      "lemmatized_word2vec_stemmed_uniwords_min-skew               0.012\n",
      "lemmatized_glove_stemmed_words-tfidf-lsa-cosine             0.012\n",
      "lemmatized_word2vec_stemmed_uniwords_max-skew               0.012\n",
      "lemmatized_stemmed_words-tfidf-lsa-cosine                   0.012\n",
      "lemmatized_words-tfidf-lsa-cosine                           0.012\n",
      "lemmatized_word2vec_uniwords_min-skew                       0.012\n",
      "lemmatized_word2vec_uniwords_min-kurtosis                   0.012\n",
      "lemmatized_glove_chars-tfidf-lsa-cosine                     0.012\n",
      "lemmatized_glove_words-tfidf-lsa-cosine                     0.012\n",
      "lemmatized_word2vec_uniwords_max-kurtosis                   0.011\n",
      "magic_min-freq                                              0.011\n",
      "lemmatized_word2vec_uniwords_diff-kurtosis                  0.011\n",
      "lemmatized_word2vec_stemmed_uniwords_max-kurtosis           0.011\n",
      "lemmatized_word2vec_uniwords_max-skew                       0.011\n",
      "lemmatized_word2vec_stemmed_uniwords_min-kurtosis           0.010\n",
      "lemmatized_word2vec_uniwords_diff-skew                      0.010\n",
      "lemmatized_word2vec_stemmed_uniwords_diff-skew              0.009\n",
      "nolemmatized_uniwords_jaccard-ratio                         0.009\n",
      "nolemmatized_uniwords_norm-wmd                              0.009\n",
      "nolemmatized_fuzz-partial-ratio                             0.009\n",
      "nolemmatized_uniwords_diff-skew                             0.009\n",
      "lemmatized_glove_stemmed_uniwords_max-skew                  0.008\n",
      "lemmatized_word2vec_stemmed_uniwords_diff-kurtosis          0.008\n",
      "nolemmatized_uniwords_diff-kurtosis                         0.008\n",
      "nolemmatized_unichars_max-len                               0.008\n",
      "lemmatized_glove_uniwords_diff-skew                         0.008\n",
      "lemmatized_glove_stemmed_uniwords_min-skew                  0.008\n",
      "nolemmatized_uniwords_edit-set-ratio                        0.008\n",
      "nolemmatized_uniwords_max-skew                              0.008\n",
      "lemmatized_glove_stemmed_uniwords_min-kurtosis              0.008\n",
      "nolemmatized_fuzz-partial-token-sort-ratio                  0.008\n",
      "nolemmatized_fuzz-token-set-ratio                           0.008\n",
      "nolemmatized_uniwords_edit-seq-ratio                        0.008\n",
      "nolemmatized_uniwords_wmd                                   0.007\n",
      "lemmatized_glove_stemmed_uniwords_max-kurtosis              0.007\n",
      "lemmatized_glove_uniwords_min-skew                          0.007\n",
      "nolemmatized_uniwords_min-skew                              0.007\n",
      "nolemmatized_uniwords_min-kurtosis                          0.007\n",
      "lemmatized_glove_uniwords_diff-kurtosis                     0.007\n",
      "lemmatized_glove_stemmed_uniwords_diff-kurtosis             0.007\n",
      "magic_diff-freq                                             0.007\n",
      "lemmatized_glove_stemmed_uniwords_diff-skew                 0.007\n",
      "nolemmatized_uniwords_canberra-distance                     0.007\n",
      "nolemmatized_unichars_min-len                               0.007\n",
      "lemmatized_glove_uniwords_max-skew                          0.007\n",
      "nolemmatized_unichars_diff-len                              0.007\n",
      "lemmatized_glove_uniwords_max-kurtosis                      0.006\n",
      "nolemmatized_uniwords_max-kurtosis                          0.006\n",
      "lemmatized_glove_uniwords_min-kurtosis                      0.006\n",
      "nolemmatized_difflib-sim                                    0.006\n",
      "nolemmatized_unichars_edit-seq-ratio                        0.005\n",
      "nolemmatized_fuzz-wratio                                    0.005\n",
      "nolemmatized_uniwords_max-len                               0.005\n",
      "nolemmatized_token                                          0.005\n",
      "nolemmatized_uniwords_cityblock-distance                    0.004\n",
      "lemmatized_word2vec_stemmed_uniwords_wmd                    0.004\n",
      "lemmatized_glove_stemmed_uniwords_cosine-distance           0.004\n",
      "lemmatized_glove_uniwords_canberra-distance                 0.004\n",
      "nolemmatized_uniwords_minkowski-distance                    0.004\n",
      "nolemmatized_uniwords_min-len                               0.004\n",
      "nolemmatized_uniwords_diff-len                              0.004\n",
      "lemmatized_word2vec_uniwords_cosine-distance                0.004\n",
      "lemmatized_glove_stemmed_uniwords_wmd                       0.004\n",
      "nolemmatized_uniwords_braycurtis-distance                   0.004\n",
      "lemmatized_word2vec_stemmed_uniwords_norm-wmd               0.004\n",
      "lemmatized_glove_stemmed_uniwords_canberra-distance         0.004\n",
      "lemmatized_fuzz_token_sort_ratio                            0.004\n",
      "lemmatized_word2vec_uniwords_canberra-distance              0.004\n",
      "lemmatized_word2vec_uniwords_wmd                            0.004\n",
      "lemmatized_word2vec_uniwords_norm-wmd                       0.004\n",
      "lemmatized_word2vec_uniwords_cityblock-distance             0.003\n",
      "lemmatized_glove_stemmed_uniwords_minkowski-distance        0.003\n",
      "lemmatized_word2vec_stemmed_uniwords_braycurtis-distance    0.003\n",
      "lemmatized_glove_uniwords_wmd                               0.003\n",
      "lemmatized_glove_stemmed_uniwords_braycurtis-distance       0.003\n",
      "lemmatized_glove_uniwords_cosine-distance                   0.003\n",
      "lemmatized_word2vec_stemmed_uniwords_minkowski-distance     0.003\n",
      "lemmatized_word2vec_uniwords_minkowski-distance             0.003\n",
      "lemmatized_glove_stemmed_uniwords_cityblock-distance        0.003\n",
      "lemmatized_word2vec_stemmed_uniwords_canberra-distance      0.003\n",
      "lemmatized_word2vec_stemmed_uniwords_cosine-distance        0.003\n",
      "lemmatized_glove_uniwords_minkowski-distance                0.003\n",
      "nolemmatized_fuzz-qratio                                    0.003\n",
      "lemmatized_word2vec_stemmed_uniwords_cityblock-distance     0.003\n",
      "lemmatized_glove_stemmed_uniwords_euclidean-distance        0.003\n",
      "lemmatized_glove_stemmed_uniwords_norm-wmd                  0.003\n",
      "lemmatized_word2vec_uniwords_braycurtis-distance            0.003\n",
      "lemmatized_glove_uniwords_cityblock-distance                0.003\n",
      "lemmatized_word2vec_uniwords_euclidean-distance             0.003\n",
      "lemmatized_glove_uniwords_braycurtis-distance               0.003\n",
      "lemmatized_glove_uniwords_norm-wmd                          0.003\n",
      "lemmatized_word2vec_uniwords_edit-set-ratio                 0.003\n",
      "lemmatized_word2vec_stemmed_unichars_edit-set-ratio         0.002\n",
      "lemmatized_word2vec_biwords_dice-ratio                      0.002\n",
      "lemmatized_word2vec_unichars_jaccard-ratio                  0.002\n",
      "lemmatized_stemmed_uniwords_edit-seq-ratio                  0.002\n",
      "lemmatized_word2vec_uniwords_edit-seq-ratio                 0.002\n",
      "lemmatized_word2vec_stemmed_unichars_edit-seq-ratio         0.002\n",
      "lemmatized_word2vec_unichars_edit-set-ratio                 0.002\n",
      "lemmatized_unichars_edit-set-ratio                          0.002\n",
      "lemmatized_word2vec_stemmed_uniwords_edit-seq-ratio         0.002\n",
      "lemmatized_word2vec_stemmed_triwords_edit-set-ratio         0.002\n",
      "lemmatized_uniwords_edit-seq-ratio                          0.002\n",
      "lemmatized_glove_uniwords_euclidean-distance                0.002\n",
      "lemmatized_glove_stemmed_biwords_edit-set-ratio             0.002\n",
      "lemmatized_stemmed_unichars_dice-ratio                      0.002\n",
      "lemmatized_glove_fuzz_token_sort_ratio                      0.002\n",
      "lemmatized_glove_stemmed_triwords_edit-set-ratio            0.002\n",
      "lemmatized_word2vec_biwords_edit-seq-ratio                  0.002\n",
      "lemmatized_word2vec_stemmed_unichars_jaccard-ratio          0.002\n",
      "lemmatized_word2vec_biwords_edit-set-ratio                  0.002\n",
      "lemmatized_trichars_edit-seq-ratio                          0.002\n",
      "lemmatized_word2vec_trichars_edit-set-ratio                 0.002\n",
      "lemmatized_word2vec_stemmed_fuzz-token-set-ratio            0.002\n",
      "lemmatized_glove_unichars_edit-set-ratio                    0.002\n",
      "lemmatized_unichars_jaccard-ratio                           0.002\n",
      "lemmatized_glove_stemmed_unichars_edit-set-ratio            0.002\n",
      "lemmatized_glove_unichars_dice-ratio                        0.002\n",
      "lemmatized_word2vec_stemmed_triwords_edit-seq-ratio         0.002\n",
      "lemmatized_word2vec_stemmed_biwords_edit-set-ratio          0.002\n",
      "lemmatized_fuzz-token-set-ratio                             0.002\n",
      "lemmatized_word2vec_stemmed_uniwords_euclidean-distance     0.002\n",
      "lemmatized_stemmed_unichars_edit-set-ratio                  0.002\n",
      "lemmatized_stemmed_unichars_jaccard-ratio                   0.002\n",
      "nolemmatized_uniwords_euclidean-distance                    0.002\n",
      "lemmatized_glove_uniwords_edit-seq-ratio                    0.002\n",
      "lemmatized_word2vec_stemmed_uniwords_edit-set-ratio         0.002\n",
      "lemmatized_uniwords_edit-set-ratio                          0.002\n",
      "lemmatized_word2vec_unichars_edit-seq-ratio                 0.002\n",
      "lemmatized_stemmed_bichars_min-len                          0.002\n",
      "lemmatized_glove_unichars_jaccard-ratio                     0.002\n",
      "lemmatized_word2vec_trichars_dice-ratio                     0.002\n",
      "lemmatized_word2vec_fuzz-token-set-ratio                    0.002\n",
      "lemmatized_glove_stemmed_unichars_jaccard-ratio             0.002\n",
      "lemmatized_word2vec_stemmed_biwords_edit-seq-ratio          0.002\n",
      "nolemmatized_uniwords_cosine-distance                       0.002\n",
      "lemmatized_uniwords_noun-jaccard-ratio                      0.001\n",
      "lemmatized_bichars_jaccard-ratio                            0.001\n",
      "lemmatized_biwords_edit-seq-ratio                           0.001\n",
      "lemmatized_biwords_jaccard-ratio                            0.001\n",
      "lemmatized_word2vec_stemmed_trichars_jaccard-ratio          0.001\n",
      "lemmatized_stemmed_bichars_edit-set-ratio                   0.001\n",
      "lemmatized_glove_stemmed_trichars_dice-ratio                0.001\n",
      "lemmatized_glove_trichars_dice-ratio                        0.001\n",
      "lemmatized_word2vec_uniwords_noun-dice-ratio                0.001\n",
      "lemmatized_glove_stemmed_unichars_edit-seq-ratio            0.001\n",
      "lemmatized_word2vec_stemmed_bichars_dice-ratio              0.001\n",
      "lemmatized_glove_stemmed_uniwords_jaccard-ratio             0.001\n",
      "lemmatized_word2vec_stemmed_uniwords_dice-ratio             0.001\n",
      "lemmatized_glove_uniwords_jaccard-ratio                     0.001\n",
      "lemmatized_glove_unichars_edit-seq-ratio                    0.001\n",
      "lemmatized_stemmed_unichars_max-len                         0.001\n",
      "lemmatized_glove_uniwords_dice-ratio                        0.001\n",
      "lemmatized_word2vec_stemmed_uniwords_jaccard-ratio          0.001\n",
      "lemmatized_word2vec_bichars_dice-ratio                      0.001\n",
      "lemmatized_glove_stemmed_bichars_edit-seq-ratio             0.001\n",
      "lemmatized_glove_stemmed_fuzz-token-set-ratio               0.001\n",
      "lemmatized_stemmed_bichars_jaccard-ratio                    0.001\n",
      "lemmatized_word2vec_stemmed_trichars_dice-ratio             0.001\n",
      "lemmatized_stemmed_bichars_edit-seq-ratio                   0.001\n",
      "lemmatized_bichars_dice-ratio                               0.001\n",
      "lemmatized_uniwords_jaccard-ratio                           0.001\n",
      "lemmatized_trichars_edit-set-ratio                          0.001\n",
      "lemmatized_stemmed_uniwords_dice-ratio                      0.001\n",
      "lemmatized_glove_biwords_edit-set-ratio                     0.001\n",
      "lemmatized_word2vec_uniwords_jaccard-ratio                  0.001\n",
      "lemmatized_triwords_edit-seq-ratio                          0.001\n",
      "lemmatized_glove_stemmed_uniwords_dice-ratio                0.001\n",
      "lemmatized_word2vec_bichars_edit-seq-ratio                  0.001\n",
      "lemmatized_uniwords_dice-ratio                              0.001\n",
      "lemmatized_word2vec_uniwords_dice-ratio                     0.001\n",
      "lemmatized_word2vec_stemmed_bichars_edit-seq-ratio          0.001\n",
      "lemmatized_word2vec_stemmed_trichars_edit-seq-ratio         0.001\n",
      "lemmatized_glove_uniwords_noun-jaccard-ratio                0.001\n",
      "lemmatized_stemmed_trichars_edit-seq-ratio                  0.001\n",
      "lemmatized_biwords_dice-ratio                               0.001\n",
      "lemmatized_glove_biwords_dice-ratio                         0.001\n",
      "lemmatized_glove_bichars_dice-ratio                         0.001\n",
      "lemmatized_unichars_max-len                                 0.001\n",
      "lemmatized_glove_trichars_edit-set-ratio                    0.001\n",
      "lemmatized_glove_bichars_jaccard-ratio                      0.001\n",
      "lemmatized_biwords_edit-set-ratio                           0.001\n",
      "lemmatized_stemmed_biwords_dice-ratio                       0.001\n",
      "lemmatized_glove_stemmed_triwords_edit-seq-ratio            0.001\n",
      "lemmatized_glove_stemmed_trichars_jaccard-ratio             0.001\n",
      "lemmatized_bichars_edit-seq-ratio                           0.001\n",
      "lemmatized_stemmed_trichars_jaccard-ratio                   0.001\n",
      "lemmatized_word2vec_stemmed_biwords_jaccard-ratio           0.001\n",
      "lemmatized_glove_stemmed_uniwords_edit-set-ratio            0.001\n",
      "lemmatized_glove_trichars_jaccard-ratio                     0.001\n",
      "lemmatized_word2vec_uniwords_noun-jaccard-ratio             0.001\n",
      "lemmatized_word2vec_uniwords_verb-dice-ratio                0.001\n",
      "lemmatized_stemmed_uniwords_edit-set-ratio                  0.001\n",
      "lemmatized_word2vec_triwords_edit-set-ratio                 0.001\n",
      "lemmatized_glove_stemmed_bichars_edit-set-ratio             0.001\n",
      "lemmatized_glove_bichars_edit-set-ratio                     0.001\n",
      "lemmatized_glove_stemmed_unichars_dice-ratio                0.001\n",
      "lemmatized_glove_bichars_edit-seq-ratio                     0.001\n",
      "lemmatized_word2vec_bichars_jaccard-ratio                   0.001\n",
      "lemmatized_glove_stemmed_bichars_dice-ratio                 0.001\n",
      "lemmatized_stemmed_trichars_dice-ratio                      0.001\n",
      "lemmatized_stemmed_bichars_dice-ratio                       0.001\n",
      "lemmatized_glove_stemmed_biwords_jaccard-ratio              0.001\n",
      "lemmatized_word2vec_stemmed_uniwords_noun-dice-ratio        0.001\n",
      "lemmatized_unichars_dice-ratio                              0.001\n",
      "lemmatized_glove_unichars_max-len                           0.001\n",
      "lemmatized_glove_stemmed_uniwords_edit-seq-ratio            0.001\n",
      "lemmatized_stemmed_unichars_edit-seq-ratio                  0.001\n",
      "lemmatized_glove_uniwords_edit-set-ratio                    0.001\n",
      "lemmatized_glove_stemmed_unichars_max-len                   0.001\n",
      "lemmatized_stemmed_uniwords_jaccard-ratio                   0.001\n",
      "lemmatized_glove_triwords_edit-set-ratio                    0.001\n",
      "lemmatized_trichars_jaccard-ratio                           0.001\n",
      "lemmatized_bichars_edit-set-ratio                           0.001\n",
      "lemmatized_unichars_edit-seq-ratio                          0.001\n",
      "lemmatized_glove_stemmed_bichars_jaccard-ratio              0.001\n",
      "lemmatized_word2vec_trichars_jaccard-ratio                  0.001\n",
      "lemmatized_trichars_dice-ratio                              0.001\n",
      "lemmatized_stemmed_trichars_min-len                         0.001\n",
      "lemmatized_glove_stemmed_biwords_dice-ratio                 0.001\n",
      "lemmatized_stemmed_biwords_jaccard-ratio                    0.001\n",
      "lemmatized_word2vec_stemmed_unichars_min-len                0.001\n",
      "lemmatized_glove_unichars_diff-len                          0.001\n",
      "lemmatized_word2vec_trichars_min-len                        0.001\n",
      "lemmatized_stemmed_unichars_min-len                         0.001\n",
      "lemmatized_stemmed_bichars_diff-len                         0.001\n",
      "lemmatized_glove_trichars_min-len                           0.001\n",
      "lemmatized_word2vec_stemmed_bichars_max-len                 0.001\n",
      "lemmatized_glove_stemmed_uniwords_noun-dice-ratio           0.001\n",
      "lemmatized_word2vec_stemmed_unichars_diff-len               0.001\n",
      "lemmatized_bichars_diff-len                                 0.001\n",
      "lemmatized_glove_stemmed_unichars_diff-len                  0.001\n",
      "lemmatized_unichars_min-len                                 0.001\n",
      "lemmatized_glove_trichars_diff-len                          0.001\n",
      "lemmatized_glove_biwords_jaccard-ratio                      0.001\n",
      "lemmatized_word2vec_bichars_edit-set-ratio                  0.001\n",
      "lemmatized_word2vec_unichars_diff-len                       0.001\n",
      "lemmatized_word2vec_stemmed_unichars_dice-ratio             0.001\n",
      "lemmatized_word2vec_stemmed_bichars_edit-set-ratio          0.001\n",
      "lemmatized_stemmed_trichars_edit-set-ratio                  0.001\n",
      "lemmatized_word2vec_stemmed_uniwords_noun-jaccard-ratio     0.001\n",
      "lemmatized_glove_stemmed_bichars_diff-len                   0.001\n",
      "lemmatized_unichars_diff-len                                0.001\n",
      "lemmatized_word2vec_biwords_jaccard-ratio                   0.001\n",
      "lemmatized_glove_stemmed_trichars_diff-len                  0.001\n",
      "lemmatized_word2vec_uniwords_jaccard-distance               0.001\n",
      "lemmatized_word2vec_unichars_min-len                        0.001\n",
      "lemmatized_glove_bichars_min-len                            0.001\n",
      "lemmatized_trichars_min-len                                 0.001\n",
      "lemmatized_glove_biwords_max-len                            0.001\n",
      "lemmatized_trichars_diff-len                                0.001\n",
      "lemmatized_glove_stemmed_bichars_min-len                    0.001\n",
      "lemmatized_word2vec_stemmed_trichars_diff-len               0.001\n",
      "lemmatized_word2vec_bichars_diff-len                        0.001\n",
      "lemmatized_word2vec_bichars_min-len                         0.001\n",
      "lemmatized_glove_stemmed_trichars_max-len                   0.001\n",
      "lemmatized_bichars_min-len                                  0.001\n",
      "lemmatized_stemmed_trichars_max-len                         0.001\n",
      "lemmatized_stemmed_trichars_diff-len                        0.001\n",
      "lemmatized_glove_trichars_max-len                           0.001\n",
      "lemmatized_trichars_max-len                                 0.001\n",
      "lemmatized_word2vec_stemmed_uniwords_jaccard-distance       0.001\n",
      "lemmatized_word2vec_stemmed_bichars_diff-len                0.001\n",
      "lemmatized_triwords_jaccard-ratio                           0.001\n",
      "lemmatized_word2vec_trichars_diff-len                       0.001\n",
      "lemmatized_glove_stemmed_trichars_min-len                   0.001\n",
      "lemmatized_word2vec_stemmed_bichars_min-len                 0.001\n",
      "lemmatized_word2vec_bichars_max-len                         0.001\n",
      "lemmatized_word2vec_stemmed_trichars_min-len                0.001\n",
      "lemmatized_glove_uniwords_noun-dice-ratio                   0.001\n",
      "lemmatized_stemmed_unichars_diff-len                        0.001\n",
      "lemmatized_word2vec_stemmed_trichars_max-len                0.001\n",
      "lemmatized_glove_bichars_max-len                            0.001\n",
      "lemmatized_stemmed_triwords_edit-seq-ratio                  0.001\n",
      "lemmatized_word2vec_stemmed_bichars_jaccard-ratio           0.001\n",
      "lemmatized_fuzz-qratio                                      0.001\n",
      "lemmatized_stemmed_fuzz-qratio                              0.001\n",
      "lemmatized_glove_stemmed_fuzz-qratio                        0.001\n",
      "lemmatized_stemmed_bichars_max-len                          0.001\n",
      "lemmatized_bichars_max-len                                  0.001\n",
      "lemmatized_word2vec_fuzz_token_sort_ratio                   0.001\n",
      "lemmatized_word2vec_trichars_edit-seq-ratio                 0.001\n",
      "lemmatized_glove_stemmed_uniwords_noun-jaccard-ratio        0.001\n",
      "lemmatized_word2vec_stemmed_fuzz_token_sort_ratio           0.001\n",
      "lemmatized_glove_fuzz-token-set-ratio                       0.001\n",
      "lemmatized_glove_fuzz-qratio                                0.001\n",
      "lemmatized_stemmed_triwords_edit-set-ratio                  0.001\n",
      "lemmatized_word2vec_unichars_max-len                        0.001\n",
      "lemmatized_word2vec_triwords_edit-seq-ratio                 0.001\n",
      "lemmatized_stemmed_biwords_edit-seq-ratio                   0.001\n",
      "lemmatized_glove_stemmed_fuzz_token_sort_ratio              0.001\n",
      "lemmatized_word2vec_stemmed_biwords_dice-ratio              0.001\n",
      "lemmatized_stemmed_uniwords_noun-dice-ratio                 0.001\n",
      "lemmatized_glove_stemmed_trichars_edit-set-ratio            0.001\n",
      "lemmatized_glove_trichars_edit-seq-ratio                    0.001\n",
      "lemmatized_glove_biwords_edit-seq-ratio                     0.001\n",
      "lemmatized_uniwords_noun-dice-ratio                         0.001\n",
      "lemmatized_stemmed_fuzz_token_sort_ratio                    0.001\n",
      "lemmatized_glove_stemmed_bichars_max-len                    0.001\n",
      "lemmatized_word2vec_trichars_max-len                        0.001\n",
      "lemmatized_stemmed_uniwords_noun-jaccard-ratio              0.001\n",
      "lemmatized_triwords_edit-set-ratio                          0.001\n",
      "lemmatized_glove_stemmed_trichars_edit-seq-ratio            0.001\n",
      "lemmatized_word2vec_unichars_dice-ratio                     0.001\n",
      "lemmatized_word2vec_stemmed_fuzz-qratio                     0.001\n",
      "lemmatized_glove_triwords_edit-seq-ratio                    0.001\n",
      "lemmatized_stemmed_biwords_edit-set-ratio                   0.001\n",
      "lemmatized_word2vec_fuzz-qratio                             0.001\n",
      "lemmatized_glove_stemmed_unichars_min-len                   0.001\n",
      "lemmatized_glove_stemmed_biwords_edit-seq-ratio             0.001\n",
      "lemmatized_glove_unichars_min-len                           0.001\n",
      "lemmatized_glove_bichars_diff-len                           0.001\n",
      "lemmatized_word2vec_stemmed_trichars_edit-set-ratio         0.001\n",
      "lemmatized_word2vec_stemmed_unichars_max-len                0.001\n",
      "lemmatized_stemmed_fuzz-token-set-ratio                     0.001\n",
      "lemmatized_glove_triwords_diff-len                          0.000\n",
      "lemmatized_word2vec_biwords_max-len                         0.000\n",
      "lemmatized_glove_stemmed_biwords_max-len                    0.000\n",
      "lemmatized_glove_stemmed_uniwords_min-len                   0.000\n",
      "lemmatized_glove_stemmed_triwords_diff-len                  0.000\n",
      "lemmatized_word2vec_uniwords_min-len                        0.000\n",
      "lemmatized_triwords_min-len                                 0.000\n",
      "lemmatized_word2vec_stemmed_biwords_max-len                 0.000\n",
      "lemmatized_stemmed_biwords_max-len                          0.000\n",
      "lemmatized_stemmed_uniwords_max-len                         0.000\n",
      "lemmatized_glove_uniwords_max-len                           0.000\n",
      "lemmatized_word2vec_stemmed_uniwords_max-len                0.000\n",
      "lemmatized_glove_stemmed_triwords_min-len                   0.000\n",
      "lemmatized_word2vec_uniwords_max-len                        0.000\n",
      "lemmatized_glove_stemmed_uniwords_max-len                   0.000\n",
      "lemmatized_word2vec_stemmed_uniwords_verb-jaccard-ratio     0.000\n",
      "lemmatized_word2vec_triwords_min-len                        0.000\n",
      "lemmatized_biwords_min-len                                  0.000\n",
      "lemmatized_glove_stemmed_triwords_max-len                   0.000\n",
      "lemmatized_word2vec_stemmed_uniwords_min-len                0.000\n",
      "lemmatized_stemmed_biwords_min-len                          0.000\n",
      "lemmatized_glove_stemmed_biwords_min-len                    0.000\n",
      "lemmatized_word2vec_biwords_min-len                         0.000\n",
      "lemmatized_stemmed_uniwords_min-len                         0.000\n",
      "lemmatized_word2vec_stemmed_biwords_min-len                 0.000\n",
      "lemmatized_glove_uniwords_min-len                           0.000\n",
      "lemmatized_uniwords_verb-dice-ratio                         0.000\n",
      "lemmatized_stemmed_triwords_min-len                         0.000\n",
      "lemmatized_glove_stemmed_uniwords_jaccard-distance          0.000\n",
      "lemmatized_glove_uniwords_verb-dice-ratio                   0.000\n",
      "lemmatized_word2vec_triwords_diff-len                       0.000\n",
      "lemmatized_stemmed_triwords_diff-len                        0.000\n",
      "lemmatized_glove_triwords_min-len                           0.000\n",
      "lemmatized_glove_biwords_min-len                            0.000\n",
      "lemmatized_word2vec_stemmed_triwords_diff-len               0.000\n",
      "lemmatized_word2vec_stemmed_triwords_max-len                0.000\n",
      "lemmatized_biwords_max-len                                  0.000\n",
      "lemmatized_glove_triwords_max-len                           0.000\n",
      "lemmatized_word2vec_stemmed_uniwords_verb-dice-ratio        0.000\n",
      "lemmatized_stemmed_triwords_jaccard-ratio                   0.000\n",
      "lemmatized_word2vec_stemmed_triwords_dice-ratio             0.000\n",
      "lemmatized_glove_stemmed_uniwords_verb-dice-ratio           0.000\n",
      "lemmatized_glove_stemmed_triwords_dice-ratio                0.000\n",
      "lemmatized_word2vec_stemmed_triwords_jaccard-ratio          0.000\n",
      "lemmatized_word2vec_triwords_dice-ratio                     0.000\n",
      "lemmatized_glove_stemmed_uniwords_verb-jaccard-ratio        0.000\n",
      "lemmatized_stemmed_uniwords_verb-jaccard-ratio              0.000\n",
      "lemmatized_glove_triwords_dice-ratio                        0.000\n",
      "lemmatized_uniwords_min-len                                 0.000\n",
      "lemmatized_triwords_dice-ratio                              0.000\n",
      "lemmatized_word2vec_uniwords_verb-jaccard-ratio             0.000\n",
      "lemmatized_glove_uniwords_jaccard-distance                  0.000\n",
      "lemmatized_uniwords_max-len                                 0.000\n",
      "lemmatized_glove_uniwords_verb-jaccard-ratio                0.000\n",
      "lemmatized_uniwords_verb-jaccard-ratio                      0.000\n",
      "lemmatized_glove_stemmed_triwords_jaccard-ratio             0.000\n",
      "lemmatized_stemmed_uniwords_verb-dice-ratio                 0.000\n",
      "lemmatized_uniwords_diff-len                                0.000\n",
      "lemmatized_word2vec_stemmed_triwords_min-len                0.000\n",
      "lemmatized_stemmed_biwords_diff-len                         0.000\n",
      "lemmatized_word2vec_triwords_max-len                        0.000\n",
      "lemmatized_stemmed_triwords_max-len                         0.000\n",
      "lemmatized_word2vec_triwords_jaccard-ratio                  0.000\n",
      "lemmatized_triwords_max-len                                 0.000\n",
      "lemmatized_triwords_diff-len                                0.000\n",
      "lemmatized_word2vec_stemmed_biwords_diff-len                0.000\n",
      "lemmatized_glove_biwords_diff-len                           0.000\n",
      "lemmatized_glove_stemmed_biwords_diff-len                   0.000\n",
      "lemmatized_biwords_diff-len                                 0.000\n",
      "lemmatized_word2vec_biwords_diff-len                        0.000\n",
      "lemmatized_word2vec_stemmed_uniwords_diff-len               0.000\n",
      "lemmatized_stemmed_triwords_dice-ratio                      0.000\n",
      "lemmatized_word2vec_uniwords_diff-len                       0.000\n",
      "lemmatized_stemmed_uniwords_diff-len                        0.000\n",
      "lemmatized_glove_uniwords_diff-len                          0.000\n",
      "lemmatized_glove_stemmed_uniwords_diff-len                  0.000\n",
      "lemmatized_glove_triwords_jaccard-ratio                     0.000\n",
      "stopword_dl_SelfAttentionBiLSTM                               NaN\n",
      "tokenize_dl_SelfAttentionBiLSTM                               NaN\n",
      "word_match                                                    NaN\n",
      "word_match_2root                                              NaN\n",
      "tfidf_word_match                                              NaN\n",
      "shared_count                                                  NaN\n",
      "stops1_ratio                                                  NaN\n",
      "stops2_ratio                                                  NaN\n",
      "shared_2gram                                                  NaN\n",
      "cosine                                                        NaN\n",
      "words_hamming                                                 NaN\n",
      "diff_stops_r                                                  NaN\n",
      "len_q1                                                        NaN\n",
      "len_q2                                                        NaN\n",
      "diff_len                                                      NaN\n",
      "caps_count_q1                                                 NaN\n",
      "caps_count_q2                                                 NaN\n",
      "diff_caps                                                     NaN\n",
      "len_char_q1                                                   NaN\n",
      "len_char_q2                                                   NaN\n",
      "diff_len_char                                                 NaN\n",
      "len_word_q1                                                   NaN\n",
      "len_word_q2                                                   NaN\n",
      "diff_len_word                                                 NaN\n",
      "avg_world_len1                                                NaN\n",
      "avg_world_len2                                                NaN\n",
      "diff_avg_word                                                 NaN\n",
      "exactly_same                                                  NaN\n",
      "duplicated                                                    NaN\n",
      "q1_how                                                        NaN\n",
      "q2_how                                                        NaN\n",
      "how_both                                                      NaN\n",
      "q1_what                                                       NaN\n",
      "q2_what                                                       NaN\n",
      "what_both                                                     NaN\n",
      "q1_which                                                      NaN\n",
      "q2_which                                                      NaN\n",
      "which_both                                                    NaN\n",
      "q1_who                                                        NaN\n",
      "q2_who                                                        NaN\n",
      "who_both                                                      NaN\n",
      "q1_where                                                      NaN\n",
      "q2_where                                                      NaN\n",
      "where_both                                                    NaN\n",
      "q1_when                                                       NaN\n",
      "q2_when                                                       NaN\n",
      "when_both                                                     NaN\n",
      "q1_why                                                        NaN\n",
      "q2_why                                                        NaN\n",
      "why_both                                                      NaN\n",
      "Name: Random Forest, dtype: float64\n"
     ]
    }
   ],
   "source": [
    "print_full(features_importance['Random Forest'].sort_values(ascending=False))"
   ]
  },
  {
   "cell_type": "code",
   "execution_count": null,
   "metadata": {
    "collapsed": true
   },
   "outputs": [],
   "source": [
    "train_features = pd.read_csv(config.FEAT_TRAIN_DATA, index_col=0, usecols=['id']+select_features(150))\n",
    "train_features = train_features.astype(dtype=float)\n",
    "\n",
    "train_label = pd.read_csv(config.TRAIN_LABEL, index_col=0)\n",
    "train_label = train_label.is_duplicate"
   ]
  },
  {
   "cell_type": "code",
   "execution_count": 29,
   "metadata": {
    "collapsed": false
   },
   "outputs": [
    {
     "data": {
      "text/plain": [
       "RandomForestClassifier(bootstrap=True, class_weight=None, criterion='gini',\n",
       "            max_depth=None, max_features='auto', max_leaf_nodes=None,\n",
       "            min_impurity_split=1e-07, min_samples_leaf=1,\n",
       "            min_samples_split=2, min_weight_fraction_leaf=0.0,\n",
       "            n_estimators=1, n_jobs=1, oob_score=False, random_state=None,\n",
       "            verbose=0, warm_start=False)"
      ]
     },
     "execution_count": 29,
     "metadata": {},
     "output_type": "execute_result"
    }
   ],
   "source": [
    "from sklearn.ensemble import RandomForestClassifier\n",
    "from sklearn.model_selection import cross_val_score\n",
    "data = train_features.fillna(0)\n",
    "label = train_label\n",
    "dev_ratio = 0.02"
   ]
  },
  {
   "cell_type": "code",
   "execution_count": 41,
   "metadata": {
    "collapsed": false
   },
   "outputs": [
    {
     "data": {
      "text/plain": [
       "sklearn.ensemble.gradient_boosting.GradientBoostingClassifier"
      ]
     },
     "execution_count": 41,
     "metadata": {},
     "output_type": "execute_result"
    }
   ],
   "source": [
    "from sklearn.ensemble import GradientBoostingClassifier\n",
    "\n",
    "GradientBoostingClassifier"
   ]
  },
  {
   "cell_type": "code",
   "execution_count": 45,
   "metadata": {
    "collapsed": false
   },
   "outputs": [
    {
     "name": "stderr",
     "output_type": "stream",
     "text": [
      "[Parallel(n_jobs=1)]: Done 400 out of 400 | elapsed: 28.1min finished\n",
      "[Parallel(n_jobs=1)]: Done 400 out of 400 | elapsed:    2.1s finished\n"
     ]
    }
   ],
   "source": [
    "# lgb data\n",
    "from sklearn.metrics import log_loss\n",
    "X_train, X_dev, y_train, y_dev = train_test_split(data, label, test_size=dev_ratio)\n",
    "clf=RandomForestClassifier(n_estimators=400, verbose=1 )\n",
    "clf.fit(X_train, y_train)\n",
    "loss = log_loss(y_dev, clf.predict_proba(X_dev))"
   ]
  },
  {
   "cell_type": "code",
   "execution_count": 46,
   "metadata": {
    "collapsed": false
   },
   "outputs": [
    {
     "data": {
      "text/plain": [
       "0.19611818560500327"
      ]
     },
     "execution_count": 46,
     "metadata": {},
     "output_type": "execute_result"
    }
   ],
   "source": [
    "loss"
   ]
  },
  {
   "cell_type": "code",
   "execution_count": 18,
   "metadata": {
    "collapsed": false
   },
   "outputs": [
    {
     "data": {
      "text/plain": [
       "['lemmatized_stemmed_triwords_dice-ratio',\n",
       " 'lemmatized_word2vec_stemmed_triwords_edit-set-ratio',\n",
       " 'lemmatized_stemmed_triwords_jaccard-ratio',\n",
       " 'lemmatized_glove_stemmed_triwords_edit-seq-ratio']"
      ]
     },
     "execution_count": 18,
     "metadata": {},
     "output_type": "execute_result"
    }
   ],
   "source": [
    "[x  for x in select_features(150) if 'triwords' in x]"
   ]
  },
  {
   "cell_type": "code",
   "execution_count": 22,
   "metadata": {
    "collapsed": false
   },
   "outputs": [
    {
     "data": {
      "text/html": [
       "<div>\n",
       "<table border=\"1\" class=\"dataframe\">\n",
       "  <thead>\n",
       "    <tr style=\"text-align: right;\">\n",
       "      <th></th>\n",
       "      <th>Correlation</th>\n",
       "      <th>Lasso</th>\n",
       "      <th>LightGBM</th>\n",
       "      <th>Mean</th>\n",
       "      <th>Random Forest</th>\n",
       "      <th>Ridge</th>\n",
       "    </tr>\n",
       "  </thead>\n",
       "  <tbody>\n",
       "    <tr>\n",
       "      <th>lemmatized_word2vec_stemmed_biwords_edit-seq-ratio</th>\n",
       "      <td>0.116</td>\n",
       "      <td>0.0</td>\n",
       "      <td>0.022</td>\n",
       "      <td>0.067209</td>\n",
       "      <td>0.002</td>\n",
       "      <td>0.193</td>\n",
       "    </tr>\n",
       "  </tbody>\n",
       "</table>\n",
       "</div>"
      ],
      "text/plain": [
       "                                                    Correlation  Lasso  \\\n",
       "lemmatized_word2vec_stemmed_biwords_edit-seq-ratio        0.116    0.0   \n",
       "\n",
       "                                                    LightGBM      Mean  \\\n",
       "lemmatized_word2vec_stemmed_biwords_edit-seq-ratio     0.022  0.067209   \n",
       "\n",
       "                                                    Random Forest  Ridge  \n",
       "lemmatized_word2vec_stemmed_biwords_edit-seq-ratio          0.002  0.193  "
      ]
     },
     "execution_count": 22,
     "metadata": {},
     "output_type": "execute_result"
    }
   ],
   "source": [
    "features_importance[120:121]"
   ]
  },
  {
   "cell_type": "code",
   "execution_count": 20,
   "metadata": {
    "collapsed": false
   },
   "outputs": [
    {
     "data": {
      "text/plain": [
       "[(0.21639901207464327, 'lemmatized_stemmed_bichars_jaccard-ratio'),\n",
       " (0.1308280278082693, 'lemmatized_bichars_jaccard-ratio'),\n",
       " (0.10318514452982072, 'lemmatized_word2vec_stemmed_bichars_dice-ratio'),\n",
       " (0.096274423710208556, 'lemmatized_word2vec_stemmed_bichars_edit-seq-ratio'),\n",
       " (0.09403860226856936, 'lemmatized_glove_stemmed_bichars_dice-ratio'),\n",
       " (0.089566959385290898, 'lemmatized_stemmed_bichars_dice-ratio'),\n",
       " (0.087534394438346139, 'lemmatized_word2vec_bichars_jaccard-ratio'),\n",
       " (0.072899926820343949, 'lemmatized_glove_stemmed_bichars_jaccard-ratio'),\n",
       " (0.06863154043175998, 'lemmatized_glove_stemmed_bichars_edit-set-ratio'),\n",
       " (0.063550128064398095, 'lemmatized_glove_bichars_dice-ratio'),\n",
       " (0.059078485181119647, 'lemmatized_stemmed_bichars_edit-set-ratio'),\n",
       " (0.058265459202341753, 'lemmatized_word2vec_bichars_edit-seq-ratio'),\n",
       " (0.058062202707647274, 'lemmatized_word2vec_bichars_dice-ratio'),\n",
       " (0.056639407244785951, 'lemmatized_glove_stemmed_bichars_edit-seq-ratio'),\n",
       " (0.056436150750091472, 'lemmatized_stemmed_bichars_edit-seq-ratio'),\n",
       " (0.056232894255397015, 'lemmatized_bichars_dice-ratio'),\n",
       " (0.049728686425173814, 'lemmatized_bichars_edit-seq-ratio'),\n",
       " (0.049118916941090378, 'lemmatized_glove_bichars_jaccard-ratio'),\n",
       " (0.048915660446395899, 'lemmatized_glove_bichars_edit-set-ratio'),\n",
       " (0.047492864983534576, 'lemmatized_bichars_edit-set-ratio'),\n",
       " (0.044444017563117465, 'lemmatized_glove_bichars_edit-seq-ratio'),\n",
       " (0.034077936333699231, 'lemmatized_bichars_max-len'),\n",
       " (0.033874679839004759, 'lemmatized_stemmed_bichars_max-len'),\n",
       " (0.03326491035492133, 'lemmatized_word2vec_stemmed_bichars_jaccard-ratio'),\n",
       " (0.032858397365532387, 'lemmatized_glove_bichars_max-len'),\n",
       " (0.032858397365532387, 'lemmatized_glove_stemmed_bichars_max-len'),\n",
       " (0.03001280643980973, 'lemmatized_glove_bichars_diff-len'),\n",
       " (0.027370472008781555, 'lemmatized_glove_stemmed_bichars_diff-len'),\n",
       " (0.02574442005122576, 'lemmatized_word2vec_stemmed_bichars_edit-set-ratio'),\n",
       " (0.02533790706183681, 'lemmatized_word2vec_bichars_edit-set-ratio'),\n",
       " (0.023305342114892057, 'lemmatized_bichars_diff-len'),\n",
       " (0.022492316136114163, 'lemmatized_word2vec_stemmed_bichars_max-len'),\n",
       " (0.020459751189169411, 'lemmatized_stemmed_bichars_diff-len'),\n",
       " (0.017817416758141236, 'lemmatized_stemmed_bichars_min-len'),\n",
       " (0.016597877789974392, 'lemmatized_word2vec_bichars_max-len'),\n",
       " (0.016394621295279913, 'lemmatized_word2vec_stemmed_bichars_min-len'),\n",
       " (0.015581595316502012, 'lemmatized_word2vec_stemmed_bichars_diff-len'),\n",
       " (0.012939260885473841, 'lemmatized_bichars_min-len'),\n",
       " (0.012736004390779364, 'lemmatized_word2vec_bichars_min-len'),\n",
       " (0.012532747896084887, 'lemmatized_word2vec_bichars_diff-len'),\n",
       " (0.0092806439809732903, 'lemmatized_glove_stemmed_bichars_min-len'),\n",
       " (0.003995975118916942, 'lemmatized_glove_bichars_min-len')]"
      ]
     },
     "execution_count": 20,
     "metadata": {},
     "output_type": "execute_result"
    }
   ],
   "source": [
    "[(features_importance.at[x, 'Mean'], x) for x in features_importance.index if '' in x ]"
   ]
  },
  {
   "cell_type": "code",
   "execution_count": 8,
   "metadata": {
    "collapsed": false
   },
   "outputs": [
    {
     "data": {
      "text/plain": [
       "['Correlation', 'Lasso', 'LightGBM', 'Mean', 'Random Forest', 'Ridge']"
      ]
     },
     "execution_count": 8,
     "metadata": {},
     "output_type": "execute_result"
    }
   ],
   "source": [
    "[x for x in features_importance]"
   ]
  },
  {
   "cell_type": "code",
   "execution_count": null,
   "metadata": {
    "collapsed": true
   },
   "outputs": [],
   "source": []
  }
 ],
 "metadata": {
  "kernelspec": {
   "display_name": "Python 3",
   "language": "python",
   "name": "python3"
  },
  "language_info": {
   "codemirror_mode": {
    "name": "ipython",
    "version": 3
   },
   "file_extension": ".py",
   "mimetype": "text/x-python",
   "name": "python",
   "nbconvert_exporter": "python",
   "pygments_lexer": "ipython3",
   "version": "3.5.2"
  }
 },
 "nbformat": 4,
 "nbformat_minor": 0
}
